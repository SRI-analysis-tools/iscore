{
 "cells": [
  {
   "cell_type": "markdown",
   "id": "7c333b1d",
   "metadata": {},
   "source": [
    "# Process txt files with RM 2-way ANOVA\n",
    "\n",
    "\n",
    "Jaime Heiss\n",
    "\n",
    "05/11/2022"
   ]
  },
  {
   "cell_type": "code",
   "execution_count": null,
   "id": "9a596a47",
   "metadata": {},
   "outputs": [],
   "source": []
  },
  {
   "cell_type": "code",
   "execution_count": 1,
   "id": "a7b9a74a",
   "metadata": {},
   "outputs": [],
   "source": [
    "import numpy as np\n",
    "import pandas as pd\n",
    "import os\n",
    "import matplotlib.pyplot as plt\n",
    "from statsmodels.stats.anova import AnovaRM\n",
    "dirtxt='G:\\My Drive\\formerlab\\camkpaper\\stats\\pengvglut2'\n",
    "fntxt='dosingPTwa.txt'\n",
    "def text2df(pathtofile,cnds=['CNO','SAL']):\n",
    "    df=pd.DataFrame()\n",
    "    with open(pathtofile) as f:\n",
    "        lines = f.readlines()"
   ]
  },
  {
   "cell_type": "code",
   "execution_count": 3,
   "id": "09646105",
   "metadata": {},
   "outputs": [
    {
     "data": {
      "text/plain": [
       "['dosing',\n",
       " 'dosingBDNrem.txt',\n",
       " 'dosingBDNrem.xls',\n",
       " 'dosingBDrem.txt',\n",
       " 'dosingBDrem.xls',\n",
       " 'dosingBDwa.txt',\n",
       " 'dosingBDwa.xls',\n",
       " 'dosingHT.txt',\n",
       " 'dosingHT.xls',\n",
       " 'dosingPTNrem.txt',\n",
       " 'dosingPTNrem.xls',\n",
       " 'dosingPTrem.txt',\n",
       " 'dosingPTrem.xls',\n",
       " 'dosingPTwa.txt',\n",
       " 'dosingPTwa.xls',\n",
       " 'dosingSWA.txt',\n",
       " 'dosingSWA.xls',\n",
       " 'dosingWBDhist.txt',\n",
       " 'dosingWBDhist.xls',\n",
       " 'dosing_cre',\n",
       " 'dosing_creBDNrem.txt',\n",
       " 'dosing_creBDNrem.xls',\n",
       " 'dosing_creBDrem.txt',\n",
       " 'dosing_creBDrem.xls',\n",
       " 'dosing_creBDwa.txt',\n",
       " 'dosing_creBDwa.xls',\n",
       " 'dosing_creHT.txt',\n",
       " 'dosing_creHT.xls',\n",
       " 'dosing_crePTNrem.txt',\n",
       " 'dosing_crePTNrem.xls',\n",
       " 'dosing_crePTrem.txt',\n",
       " 'dosing_crePTrem.xls',\n",
       " 'dosing_crePTwa.txt',\n",
       " 'dosing_crePTwa.xls',\n",
       " 'dosing_creSWA.txt',\n",
       " 'dosing_creSWA.xls',\n",
       " 'dosing_creWBDhist.txt',\n",
       " 'dosing_creWBDhist.xls',\n",
       " 'dosing_wt']"
      ]
     },
     "execution_count": 3,
     "metadata": {},
     "output_type": "execute_result"
    }
   ],
   "source": [
    "dirtxt=r'C:\\Users\\US Retail\\Documents\\camkpaper\\processed_data\\mats_gad_cre_camK_dta\\dosing'\n",
    "df = pd.read_excel(os.path.join(listdir(dirtxt)"
   ]
  },
  {
   "cell_type": "code",
   "execution_count": 10,
   "id": "719eb37b",
   "metadata": {},
   "outputs": [
    {
     "data": {
      "text/plain": [
       "array([1, 3, 5, 7, 9])"
      ]
     },
     "execution_count": 10,
     "metadata": {},
     "output_type": "execute_result"
    }
   ],
   "source": [
    "np.arange(1,10,2)"
   ]
  },
  {
   "cell_type": "code",
   "execution_count": 12,
   "id": "30411c5f",
   "metadata": {},
   "outputs": [
    {
     "data": {
      "text/html": [
       "<div>\n",
       "<style scoped>\n",
       "    .dataframe tbody tr th:only-of-type {\n",
       "        vertical-align: middle;\n",
       "    }\n",
       "\n",
       "    .dataframe tbody tr th {\n",
       "        vertical-align: top;\n",
       "    }\n",
       "\n",
       "    .dataframe thead th {\n",
       "        text-align: right;\n",
       "    }\n",
       "</style>\n",
       "<table border=\"1\" class=\"dataframe\">\n",
       "  <thead>\n",
       "    <tr style=\"text-align: right;\">\n",
       "      <th></th>\n",
       "      <th>subjectID</th>\n",
       "      <th>ptWA</th>\n",
       "      <th>ZT</th>\n",
       "      <th>Cond</th>\n",
       "    </tr>\n",
       "  </thead>\n",
       "  <tbody>\n",
       "    <tr>\n",
       "      <th>0</th>\n",
       "      <td>mse1</td>\n",
       "      <td>35.627081</td>\n",
       "      <td>0</td>\n",
       "      <td>CNO</td>\n",
       "    </tr>\n",
       "    <tr>\n",
       "      <th>1</th>\n",
       "      <td>mse1</td>\n",
       "      <td>64.816870</td>\n",
       "      <td>1</td>\n",
       "      <td>CNO</td>\n",
       "    </tr>\n",
       "    <tr>\n",
       "      <th>2</th>\n",
       "      <td>mse1</td>\n",
       "      <td>100.000000</td>\n",
       "      <td>2</td>\n",
       "      <td>CNO</td>\n",
       "    </tr>\n",
       "    <tr>\n",
       "      <th>3</th>\n",
       "      <td>mse1</td>\n",
       "      <td>100.000000</td>\n",
       "      <td>3</td>\n",
       "      <td>CNO</td>\n",
       "    </tr>\n",
       "    <tr>\n",
       "      <th>4</th>\n",
       "      <td>mse1</td>\n",
       "      <td>100.000000</td>\n",
       "      <td>4</td>\n",
       "      <td>CNO</td>\n",
       "    </tr>\n",
       "    <tr>\n",
       "      <th>...</th>\n",
       "      <td>...</td>\n",
       "      <td>...</td>\n",
       "      <td>...</td>\n",
       "      <td>...</td>\n",
       "    </tr>\n",
       "    <tr>\n",
       "      <th>187</th>\n",
       "      <td>mse8</td>\n",
       "      <td>23.529412</td>\n",
       "      <td>7</td>\n",
       "      <td>SAL</td>\n",
       "    </tr>\n",
       "    <tr>\n",
       "      <th>188</th>\n",
       "      <td>mse8</td>\n",
       "      <td>65.149834</td>\n",
       "      <td>8</td>\n",
       "      <td>SAL</td>\n",
       "    </tr>\n",
       "    <tr>\n",
       "      <th>189</th>\n",
       "      <td>mse8</td>\n",
       "      <td>21.864595</td>\n",
       "      <td>9</td>\n",
       "      <td>SAL</td>\n",
       "    </tr>\n",
       "    <tr>\n",
       "      <th>190</th>\n",
       "      <td>mse8</td>\n",
       "      <td>62.042175</td>\n",
       "      <td>10</td>\n",
       "      <td>SAL</td>\n",
       "    </tr>\n",
       "    <tr>\n",
       "      <th>191</th>\n",
       "      <td>mse8</td>\n",
       "      <td>72.586016</td>\n",
       "      <td>11</td>\n",
       "      <td>SAL</td>\n",
       "    </tr>\n",
       "  </tbody>\n",
       "</table>\n",
       "<p>192 rows × 4 columns</p>\n",
       "</div>"
      ],
      "text/plain": [
       "    subjectID        ptWA  ZT Cond\n",
       "0        mse1   35.627081   0  CNO\n",
       "1        mse1   64.816870   1  CNO\n",
       "2        mse1  100.000000   2  CNO\n",
       "3        mse1  100.000000   3  CNO\n",
       "4        mse1  100.000000   4  CNO\n",
       "..        ...         ...  ..  ...\n",
       "187      mse8   23.529412   7  SAL\n",
       "188      mse8   65.149834   8  SAL\n",
       "189      mse8   21.864595   9  SAL\n",
       "190      mse8   62.042175  10  SAL\n",
       "191      mse8   72.586016  11  SAL\n",
       "\n",
       "[192 rows x 4 columns]"
      ]
     },
     "execution_count": 12,
     "metadata": {},
     "output_type": "execute_result"
    }
   ],
   "source": [
    "fn=os.path.join(dirtxt,fntxt)\n",
    "df=pd.DataFrame(columns=['subjectID','ptWA','ZT','Cond'])\n",
    "with open(fn) as f:\n",
    "        lines = f.readlines()\n",
    "posc=0\n",
    "cnds=['CNO','SAL']\n",
    "firstZT=0\n",
    "for i,l in enumerate(lines):\n",
    "    df1l = pd.DataFrame(columns=['subjectID','ptWA','ZT','Cond'])\n",
    "    numb=[float(e) for e in l.split()]\n",
    "    df1l['ptWA'] = numb\n",
    "    df1l['ZT'] = np.arange(firstZT,firstZT+len(numb))\n",
    "    df1l['subjectID'] = 'mse'+str(1+i//len(cnds))\n",
    "    df1l['Cond']=cnds[posc]\n",
    "    posc+=1\n",
    "    if posc>1:\n",
    "        posc=0\n",
    "    df=df.append(df1l,ignore_index=True)\n",
    "\n",
    "df\n",
    "\n",
    "\n"
   ]
  },
  {
   "cell_type": "code",
   "execution_count": 14,
   "id": "fe67b74d",
   "metadata": {},
   "outputs": [
    {
     "data": {
      "text/plain": [
       "<AxesSubplot:xlabel='ZT', ylabel='ptWA'>"
      ]
     },
     "execution_count": 14,
     "metadata": {},
     "output_type": "execute_result"
    },
    {
     "data": {
      "image/png": "[encoded data removed]",
      "text/plain": [
       "<Figure size 432x288 with 1 Axes>"
      ]
     },
     "metadata": {
      "needs_background": "light"
     },
     "output_type": "display_data"
    }
   ],
   "source": [
    "import seaborn as sns\n",
    "sns.lineplot(x='ZT',y='ptWA',hue='Cond',data=df)"
   ]
  },
  {
   "cell_type": "code",
   "execution_count": 15,
   "id": "aa1df4b2",
   "metadata": {},
   "outputs": [
    {
     "name": "stdout",
     "output_type": "stream",
     "text": [
      "                Anova\n",
      "======================================\n",
      "        F Value  Num DF  Den DF Pr > F\n",
      "--------------------------------------\n",
      "ZT      10.5321 11.0000 77.0000 0.0000\n",
      "Cond    75.6015  1.0000  7.0000 0.0001\n",
      "ZT:Cond  9.8834 11.0000 77.0000 0.0000\n",
      "======================================\n",
      "\n"
     ]
    }
   ],
   "source": [
    "aovrm2way = AnovaRM(df, 'ptWA', 'subjectID', within=['ZT', 'Cond'])\n",
    "res2way = aovrm2way.fit()\n",
    "\n",
    "print(res2way)"
   ]
  },
  {
   "cell_type": "code",
   "execution_count": 24,
   "id": "d7499e93",
   "metadata": {},
   "outputs": [
    {
     "data": {
      "text/plain": [
       "array([False, False,  True,  True,  True,  True,  True,  True, False,\n",
       "       False, False, False])"
      ]
     },
     "execution_count": 24,
     "metadata": {},
     "output_type": "execute_result"
    }
   ],
   "source": [
    "#Perform corrected comparison across condtions for every ZT\n",
    "from scipy.stats import ttest_rel\n",
    "\n",
    "# Python paired sample t-test\n",
    "pvals=[]\n",
    "for zt in df.ZT.unique():\n",
    "    a=df.loc[(df.Cond==cnds[0])&(df.ZT==zt),'ptWA'].values\n",
    "    b=df.loc[(df.Cond==cnds[1])&(df.ZT==zt),'ptWA'].values\n",
    "    pvals.append(ttest_rel(a, b).pvalue)\n",
    "pvals=np.array(pvals)*len(pvals)\n",
    "pvals<0.05\n"
   ]
  }
 ],
 "metadata": {
  "kernelspec": {
   "display_name": "Python 3.9.7 ('base')",
   "language": "python",
   "name": "python3"
  },
  "language_info": {
   "codemirror_mode": {
    "name": "ipython",
    "version": 3
   },
   "file_extension": ".py",
   "mimetype": "text/x-python",
   "name": "python",
   "nbconvert_exporter": "python",
   "pygments_lexer": "ipython3",
   "version": "3.9.7"
  },
  "vscode": {
   "interpreter": {
    "hash": "ad2bdc8ecc057115af97d19610ffacc2b4e99fae6737bb82f5d7fb13d2f2c186"
   }
  }
 },
 "nbformat": 4,
 "nbformat_minor": 5
}
